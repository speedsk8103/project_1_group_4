{
 "cells": [
  {
   "cell_type": "code",
   "execution_count": 23,
   "id": "77a5bd9e-f594-4d7b-b300-f38b4e6b92bc",
   "metadata": {},
   "outputs": [],
   "source": [
    "import matplotlib.pyplot as plt\n",
    "import pandas as pd\n",
    "import scipy.stats as st\n"
   ]
  },
  {
   "cell_type": "code",
   "execution_count": 24,
   "id": "bd684224-6236-4138-b363-2ccb5ea4b2ee",
   "metadata": {},
   "outputs": [
    {
     "ename": "FileNotFoundError",
     "evalue": "[Errno 2] No such file or directory: 'resources/2015.csv'",
     "output_type": "error",
     "traceback": [
      "\u001b[1;31m---------------------------------------------------------------------------\u001b[0m",
      "\u001b[1;31mFileNotFoundError\u001b[0m                         Traceback (most recent call last)",
      "\u001b[1;32m~\\AppData\\Local\\Temp\\ipykernel_2796\\4122259410.py\u001b[0m in \u001b[0;36m<module>\u001b[1;34m\u001b[0m\n\u001b[0;32m      7\u001b[0m \u001b[1;33m\u001b[0m\u001b[0m\n\u001b[0;32m      8\u001b[0m \u001b[1;31m# Read the mouse data and the study results\u001b[0m\u001b[1;33m\u001b[0m\u001b[1;33m\u001b[0m\u001b[0m\n\u001b[1;32m----> 9\u001b[1;33m \u001b[0mfifteen_data\u001b[0m \u001b[1;33m=\u001b[0m \u001b[0mpd\u001b[0m\u001b[1;33m.\u001b[0m\u001b[0mread_csv\u001b[0m\u001b[1;33m(\u001b[0m\u001b[0mfifteen\u001b[0m\u001b[1;33m)\u001b[0m\u001b[1;33m\u001b[0m\u001b[1;33m\u001b[0m\u001b[0m\n\u001b[0m\u001b[0;32m     10\u001b[0m \u001b[0msixteen_data\u001b[0m \u001b[1;33m=\u001b[0m \u001b[0mpd\u001b[0m\u001b[1;33m.\u001b[0m\u001b[0mread_csv\u001b[0m\u001b[1;33m(\u001b[0m\u001b[0msixteen\u001b[0m\u001b[1;33m)\u001b[0m\u001b[1;33m\u001b[0m\u001b[1;33m\u001b[0m\u001b[0m\n\u001b[0;32m     11\u001b[0m \u001b[0mseventeen_data\u001b[0m \u001b[1;33m=\u001b[0m \u001b[0mpd\u001b[0m\u001b[1;33m.\u001b[0m\u001b[0mread_csv\u001b[0m\u001b[1;33m(\u001b[0m\u001b[0mseventeen\u001b[0m\u001b[1;33m)\u001b[0m\u001b[1;33m\u001b[0m\u001b[1;33m\u001b[0m\u001b[0m\n",
      "\u001b[1;32m~\\anaconda3\\lib\\site-packages\\pandas\\util\\_decorators.py\u001b[0m in \u001b[0;36mwrapper\u001b[1;34m(*args, **kwargs)\u001b[0m\n\u001b[0;32m    309\u001b[0m                     \u001b[0mstacklevel\u001b[0m\u001b[1;33m=\u001b[0m\u001b[0mstacklevel\u001b[0m\u001b[1;33m,\u001b[0m\u001b[1;33m\u001b[0m\u001b[1;33m\u001b[0m\u001b[0m\n\u001b[0;32m    310\u001b[0m                 )\n\u001b[1;32m--> 311\u001b[1;33m             \u001b[1;32mreturn\u001b[0m \u001b[0mfunc\u001b[0m\u001b[1;33m(\u001b[0m\u001b[1;33m*\u001b[0m\u001b[0margs\u001b[0m\u001b[1;33m,\u001b[0m \u001b[1;33m**\u001b[0m\u001b[0mkwargs\u001b[0m\u001b[1;33m)\u001b[0m\u001b[1;33m\u001b[0m\u001b[1;33m\u001b[0m\u001b[0m\n\u001b[0m\u001b[0;32m    312\u001b[0m \u001b[1;33m\u001b[0m\u001b[0m\n\u001b[0;32m    313\u001b[0m         \u001b[1;32mreturn\u001b[0m \u001b[0mwrapper\u001b[0m\u001b[1;33m\u001b[0m\u001b[1;33m\u001b[0m\u001b[0m\n",
      "\u001b[1;32m~\\anaconda3\\lib\\site-packages\\pandas\\io\\parsers\\readers.py\u001b[0m in \u001b[0;36mread_csv\u001b[1;34m(filepath_or_buffer, sep, delimiter, header, names, index_col, usecols, squeeze, prefix, mangle_dupe_cols, dtype, engine, converters, true_values, false_values, skipinitialspace, skiprows, skipfooter, nrows, na_values, keep_default_na, na_filter, verbose, skip_blank_lines, parse_dates, infer_datetime_format, keep_date_col, date_parser, dayfirst, cache_dates, iterator, chunksize, compression, thousands, decimal, lineterminator, quotechar, quoting, doublequote, escapechar, comment, encoding, encoding_errors, dialect, error_bad_lines, warn_bad_lines, on_bad_lines, delim_whitespace, low_memory, memory_map, float_precision, storage_options)\u001b[0m\n\u001b[0;32m    676\u001b[0m     \u001b[0mkwds\u001b[0m\u001b[1;33m.\u001b[0m\u001b[0mupdate\u001b[0m\u001b[1;33m(\u001b[0m\u001b[0mkwds_defaults\u001b[0m\u001b[1;33m)\u001b[0m\u001b[1;33m\u001b[0m\u001b[1;33m\u001b[0m\u001b[0m\n\u001b[0;32m    677\u001b[0m \u001b[1;33m\u001b[0m\u001b[0m\n\u001b[1;32m--> 678\u001b[1;33m     \u001b[1;32mreturn\u001b[0m \u001b[0m_read\u001b[0m\u001b[1;33m(\u001b[0m\u001b[0mfilepath_or_buffer\u001b[0m\u001b[1;33m,\u001b[0m \u001b[0mkwds\u001b[0m\u001b[1;33m)\u001b[0m\u001b[1;33m\u001b[0m\u001b[1;33m\u001b[0m\u001b[0m\n\u001b[0m\u001b[0;32m    679\u001b[0m \u001b[1;33m\u001b[0m\u001b[0m\n\u001b[0;32m    680\u001b[0m \u001b[1;33m\u001b[0m\u001b[0m\n",
      "\u001b[1;32m~\\anaconda3\\lib\\site-packages\\pandas\\io\\parsers\\readers.py\u001b[0m in \u001b[0;36m_read\u001b[1;34m(filepath_or_buffer, kwds)\u001b[0m\n\u001b[0;32m    573\u001b[0m \u001b[1;33m\u001b[0m\u001b[0m\n\u001b[0;32m    574\u001b[0m     \u001b[1;31m# Create the parser.\u001b[0m\u001b[1;33m\u001b[0m\u001b[1;33m\u001b[0m\u001b[0m\n\u001b[1;32m--> 575\u001b[1;33m     \u001b[0mparser\u001b[0m \u001b[1;33m=\u001b[0m \u001b[0mTextFileReader\u001b[0m\u001b[1;33m(\u001b[0m\u001b[0mfilepath_or_buffer\u001b[0m\u001b[1;33m,\u001b[0m \u001b[1;33m**\u001b[0m\u001b[0mkwds\u001b[0m\u001b[1;33m)\u001b[0m\u001b[1;33m\u001b[0m\u001b[1;33m\u001b[0m\u001b[0m\n\u001b[0m\u001b[0;32m    576\u001b[0m \u001b[1;33m\u001b[0m\u001b[0m\n\u001b[0;32m    577\u001b[0m     \u001b[1;32mif\u001b[0m \u001b[0mchunksize\u001b[0m \u001b[1;32mor\u001b[0m \u001b[0miterator\u001b[0m\u001b[1;33m:\u001b[0m\u001b[1;33m\u001b[0m\u001b[1;33m\u001b[0m\u001b[0m\n",
      "\u001b[1;32m~\\anaconda3\\lib\\site-packages\\pandas\\io\\parsers\\readers.py\u001b[0m in \u001b[0;36m__init__\u001b[1;34m(self, f, engine, **kwds)\u001b[0m\n\u001b[0;32m    930\u001b[0m \u001b[1;33m\u001b[0m\u001b[0m\n\u001b[0;32m    931\u001b[0m         \u001b[0mself\u001b[0m\u001b[1;33m.\u001b[0m\u001b[0mhandles\u001b[0m\u001b[1;33m:\u001b[0m \u001b[0mIOHandles\u001b[0m \u001b[1;33m|\u001b[0m \u001b[1;32mNone\u001b[0m \u001b[1;33m=\u001b[0m \u001b[1;32mNone\u001b[0m\u001b[1;33m\u001b[0m\u001b[1;33m\u001b[0m\u001b[0m\n\u001b[1;32m--> 932\u001b[1;33m         \u001b[0mself\u001b[0m\u001b[1;33m.\u001b[0m\u001b[0m_engine\u001b[0m \u001b[1;33m=\u001b[0m \u001b[0mself\u001b[0m\u001b[1;33m.\u001b[0m\u001b[0m_make_engine\u001b[0m\u001b[1;33m(\u001b[0m\u001b[0mf\u001b[0m\u001b[1;33m,\u001b[0m \u001b[0mself\u001b[0m\u001b[1;33m.\u001b[0m\u001b[0mengine\u001b[0m\u001b[1;33m)\u001b[0m\u001b[1;33m\u001b[0m\u001b[1;33m\u001b[0m\u001b[0m\n\u001b[0m\u001b[0;32m    933\u001b[0m \u001b[1;33m\u001b[0m\u001b[0m\n\u001b[0;32m    934\u001b[0m     \u001b[1;32mdef\u001b[0m \u001b[0mclose\u001b[0m\u001b[1;33m(\u001b[0m\u001b[0mself\u001b[0m\u001b[1;33m)\u001b[0m\u001b[1;33m:\u001b[0m\u001b[1;33m\u001b[0m\u001b[1;33m\u001b[0m\u001b[0m\n",
      "\u001b[1;32m~\\anaconda3\\lib\\site-packages\\pandas\\io\\parsers\\readers.py\u001b[0m in \u001b[0;36m_make_engine\u001b[1;34m(self, f, engine)\u001b[0m\n\u001b[0;32m   1214\u001b[0m             \u001b[1;31m# \"Union[str, PathLike[str], ReadCsvBuffer[bytes], ReadCsvBuffer[str]]\"\u001b[0m\u001b[1;33m\u001b[0m\u001b[1;33m\u001b[0m\u001b[0m\n\u001b[0;32m   1215\u001b[0m             \u001b[1;31m# , \"str\", \"bool\", \"Any\", \"Any\", \"Any\", \"Any\", \"Any\"\u001b[0m\u001b[1;33m\u001b[0m\u001b[1;33m\u001b[0m\u001b[0m\n\u001b[1;32m-> 1216\u001b[1;33m             self.handles = get_handle(  # type: ignore[call-overload]\n\u001b[0m\u001b[0;32m   1217\u001b[0m                 \u001b[0mf\u001b[0m\u001b[1;33m,\u001b[0m\u001b[1;33m\u001b[0m\u001b[1;33m\u001b[0m\u001b[0m\n\u001b[0;32m   1218\u001b[0m                 \u001b[0mmode\u001b[0m\u001b[1;33m,\u001b[0m\u001b[1;33m\u001b[0m\u001b[1;33m\u001b[0m\u001b[0m\n",
      "\u001b[1;32m~\\anaconda3\\lib\\site-packages\\pandas\\io\\common.py\u001b[0m in \u001b[0;36mget_handle\u001b[1;34m(path_or_buf, mode, encoding, compression, memory_map, is_text, errors, storage_options)\u001b[0m\n\u001b[0;32m    784\u001b[0m         \u001b[1;32mif\u001b[0m \u001b[0mioargs\u001b[0m\u001b[1;33m.\u001b[0m\u001b[0mencoding\u001b[0m \u001b[1;32mand\u001b[0m \u001b[1;34m\"b\"\u001b[0m \u001b[1;32mnot\u001b[0m \u001b[1;32min\u001b[0m \u001b[0mioargs\u001b[0m\u001b[1;33m.\u001b[0m\u001b[0mmode\u001b[0m\u001b[1;33m:\u001b[0m\u001b[1;33m\u001b[0m\u001b[1;33m\u001b[0m\u001b[0m\n\u001b[0;32m    785\u001b[0m             \u001b[1;31m# Encoding\u001b[0m\u001b[1;33m\u001b[0m\u001b[1;33m\u001b[0m\u001b[0m\n\u001b[1;32m--> 786\u001b[1;33m             handle = open(\n\u001b[0m\u001b[0;32m    787\u001b[0m                 \u001b[0mhandle\u001b[0m\u001b[1;33m,\u001b[0m\u001b[1;33m\u001b[0m\u001b[1;33m\u001b[0m\u001b[0m\n\u001b[0;32m    788\u001b[0m                 \u001b[0mioargs\u001b[0m\u001b[1;33m.\u001b[0m\u001b[0mmode\u001b[0m\u001b[1;33m,\u001b[0m\u001b[1;33m\u001b[0m\u001b[1;33m\u001b[0m\u001b[0m\n",
      "\u001b[1;31mFileNotFoundError\u001b[0m: [Errno 2] No such file or directory: 'resources/2015.csv'"
     ]
    }
   ],
   "source": [
    "# Study data files\n",
    "fifteen = \"resources/2015.csv\"\n",
    "sixteen = \"resources/2016.csv\"\n",
    "seventeen = \"resources/2017.csv\"\n",
    "eighteen = \"resources/2018.csv\"\n",
    "nineteen = \"resources/2019.csv\"\n",
    "\n",
    "# Read the mouse data and the study results\n",
    "fifteen_data = pd.read_csv(fifteen)\n",
    "sixteen_data = pd.read_csv(sixteen)\n",
    "seventeen_data = pd.read_csv(seventeen)\n",
    "eighteen_data = pd.read_csv(eighteen)\n",
    "nineteen_data = pd.read_csv(nineteen)\n",
    "\n",
    "#change into dataframes\n",
    "fif_df = pd.DataFrame(fifteen_data)\n",
    "six_df = pd.DataFrame(sixteen_data)\n",
    "sev_df = pd.DataFrame(seventeen_data)\n",
    "eight_df = pd.DataFrame(eighteen_data)\n",
    "nine_df = pd.DataFrame(nineteen_data)"
   ]
  },
  {
   "cell_type": "code",
   "execution_count": 6,
   "id": "c2bf4ceb-3287-48d0-95a9-a4420110cc69",
   "metadata": {},
   "outputs": [
    {
     "ename": "NameError",
     "evalue": "name 'fif_df' is not defined",
     "output_type": "error",
     "traceback": [
      "\u001b[1;31m---------------------------------------------------------------------------\u001b[0m",
      "\u001b[1;31mNameError\u001b[0m                                 Traceback (most recent call last)",
      "\u001b[1;32m~\\AppData\\Local\\Temp\\ipykernel_2796\\1292509979.py\u001b[0m in \u001b[0;36m<module>\u001b[1;34m\u001b[0m\n\u001b[0;32m      2\u001b[0m \u001b[1;33m\u001b[0m\u001b[0m\n\u001b[0;32m      3\u001b[0m \u001b[1;31m# 2015 top 5\u001b[0m\u001b[1;33m\u001b[0m\u001b[1;33m\u001b[0m\u001b[0m\n\u001b[1;32m----> 4\u001b[1;33m \u001b[0mfif_top_5\u001b[0m \u001b[1;33m=\u001b[0m \u001b[0mfif_df\u001b[0m\u001b[1;33m.\u001b[0m\u001b[0miloc\u001b[0m\u001b[1;33m[\u001b[0m\u001b[1;36m0\u001b[0m\u001b[1;33m:\u001b[0m\u001b[1;36m5\u001b[0m\u001b[1;33m]\u001b[0m\u001b[1;33m\u001b[0m\u001b[1;33m\u001b[0m\u001b[0m\n\u001b[0m\u001b[0;32m      5\u001b[0m \u001b[0mfif_df\u001b[0m\u001b[1;33m[\u001b[0m\u001b[1;33m[\u001b[0m\u001b[1;34m\"Country\"\u001b[0m\u001b[1;33m,\u001b[0m \u001b[1;34m\"Happiness Rank\"\u001b[0m\u001b[1;33m,\u001b[0m \u001b[1;34m\"Happiness Score\"\u001b[0m\u001b[1;33m,\u001b[0m \u001b[1;34m\"Trust (Government Corruption)\"\u001b[0m\u001b[1;33m]\u001b[0m\u001b[1;33m]\u001b[0m\u001b[1;33m\u001b[0m\u001b[1;33m\u001b[0m\u001b[0m\n\u001b[0;32m      6\u001b[0m \u001b[0mfif_top_5\u001b[0m \u001b[1;33m=\u001b[0m \u001b[0mfif_top_5\u001b[0m\u001b[1;33m[\u001b[0m\u001b[1;33m[\u001b[0m\u001b[1;34m\"Country\"\u001b[0m\u001b[1;33m,\u001b[0m \u001b[1;34m\"Happiness Rank\"\u001b[0m\u001b[1;33m,\u001b[0m \u001b[1;34m\"Happiness Score\"\u001b[0m\u001b[1;33m,\u001b[0m \u001b[1;34m\"Trust (Government Corruption)\"\u001b[0m\u001b[1;33m]\u001b[0m\u001b[1;33m]\u001b[0m\u001b[1;33m\u001b[0m\u001b[1;33m\u001b[0m\u001b[0m\n",
      "\u001b[1;31mNameError\u001b[0m: name 'fif_df' is not defined"
     ]
    }
   ],
   "source": [
    "# create dataframes showing top 5 and bottom 5 ranking on the happiness score and trust in government for each year.\n",
    "\n",
    "# 2015 top 5\n",
    "fif_top_5 = fif_df.iloc[0:5]\n",
    "fif_df[[\"Country\", \"Happiness Rank\", \"Happiness Score\", \"Trust (Government Corruption)\"]]\n",
    "fif_top_5 = fif_top_5[[\"Country\", \"Happiness Rank\", \"Happiness Score\", \"Trust (Government Corruption)\"]]\n",
    "# 2015 bottom 5\n",
    "fif_last_5 = fif_df.iloc[152:157]\n",
    "fif_last_5[[\"Country\", \"Happiness Rank\", \"Happiness Score\", \"Trust (Government Corruption)\"]]\n",
    "fif_last_5 = fif_last_5[[\"Country\", \"Happiness Rank\", \"Happiness Score\", \"Trust (Government Corruption)\"]]\n",
    "\n",
    "fif_top_5 = pd.DataFrame({'Country': [0], 'Happiness Rank': [1], \"Happiness Score\" : [2], \"Trust(Government Corruption)\" : [5]})\n",
    "fif_top_5 = fif_top_5.rename(columns={fif_top_5.columns[5]: 'Trust(Government Corruption)'})"
   ]
  },
  {
   "cell_type": "code",
   "execution_count": 7,
   "id": "2092d75b-67a0-42b5-ace3-b83b430b52af",
   "metadata": {},
   "outputs": [
    {
     "ename": "NameError",
     "evalue": "name 'fif_top_5' is not defined",
     "output_type": "error",
     "traceback": [
      "\u001b[1;31m---------------------------------------------------------------------------\u001b[0m",
      "\u001b[1;31mNameError\u001b[0m                                 Traceback (most recent call last)",
      "\u001b[1;32m~\\AppData\\Local\\Temp\\ipykernel_2796\\1851010347.py\u001b[0m in \u001b[0;36m<module>\u001b[1;34m\u001b[0m\n\u001b[1;32m----> 1\u001b[1;33m \u001b[0mfif_top_5\u001b[0m\u001b[1;33m\u001b[0m\u001b[1;33m\u001b[0m\u001b[0m\n\u001b[0m",
      "\u001b[1;31mNameError\u001b[0m: name 'fif_top_5' is not defined"
     ]
    }
   ],
   "source": [
    "fif_top_5"
   ]
  },
  {
   "cell_type": "code",
   "execution_count": 8,
   "id": "ab4cfdc7-def5-41d0-96aa-d1021ef6af99",
   "metadata": {},
   "outputs": [
    {
     "ename": "NameError",
     "evalue": "name 'fif_last_5' is not defined",
     "output_type": "error",
     "traceback": [
      "\u001b[1;31m---------------------------------------------------------------------------\u001b[0m",
      "\u001b[1;31mNameError\u001b[0m                                 Traceback (most recent call last)",
      "\u001b[1;32m~\\AppData\\Local\\Temp\\ipykernel_2796\\869975332.py\u001b[0m in \u001b[0;36m<module>\u001b[1;34m\u001b[0m\n\u001b[1;32m----> 1\u001b[1;33m \u001b[0mfif_last_5\u001b[0m\u001b[1;33m\u001b[0m\u001b[1;33m\u001b[0m\u001b[0m\n\u001b[0m",
      "\u001b[1;31mNameError\u001b[0m: name 'fif_last_5' is not defined"
     ]
    }
   ],
   "source": [
    "fif_last_5"
   ]
  },
  {
   "cell_type": "code",
   "execution_count": 9,
   "id": "338a261c-d768-4f00-8768-15c1b31db2c0",
   "metadata": {},
   "outputs": [
    {
     "ename": "NameError",
     "evalue": "name 'six_df' is not defined",
     "output_type": "error",
     "traceback": [
      "\u001b[1;31m---------------------------------------------------------------------------\u001b[0m",
      "\u001b[1;31mNameError\u001b[0m                                 Traceback (most recent call last)",
      "\u001b[1;32m~\\AppData\\Local\\Temp\\ipykernel_2796\\4039271595.py\u001b[0m in \u001b[0;36m<module>\u001b[1;34m\u001b[0m\n\u001b[0;32m      2\u001b[0m \u001b[1;33m\u001b[0m\u001b[0m\n\u001b[0;32m      3\u001b[0m \u001b[1;31m# 2016 top 5\u001b[0m\u001b[1;33m\u001b[0m\u001b[1;33m\u001b[0m\u001b[0m\n\u001b[1;32m----> 4\u001b[1;33m \u001b[0msix_top_5\u001b[0m \u001b[1;33m=\u001b[0m \u001b[0msix_df\u001b[0m\u001b[1;33m.\u001b[0m\u001b[0miloc\u001b[0m\u001b[1;33m[\u001b[0m\u001b[1;36m0\u001b[0m\u001b[1;33m:\u001b[0m\u001b[1;36m5\u001b[0m\u001b[1;33m]\u001b[0m\u001b[1;33m\u001b[0m\u001b[1;33m\u001b[0m\u001b[0m\n\u001b[0m\u001b[0;32m      5\u001b[0m \u001b[0msix_df\u001b[0m\u001b[1;33m[\u001b[0m\u001b[1;33m[\u001b[0m\u001b[1;34m\"Country\"\u001b[0m\u001b[1;33m,\u001b[0m \u001b[1;34m\"Happiness Rank\"\u001b[0m\u001b[1;33m,\u001b[0m \u001b[1;34m\"Happiness Score\"\u001b[0m\u001b[1;33m,\u001b[0m \u001b[1;34m\"Trust (Government Corruption)\"\u001b[0m\u001b[1;33m]\u001b[0m\u001b[1;33m]\u001b[0m\u001b[1;33m\u001b[0m\u001b[1;33m\u001b[0m\u001b[0m\n\u001b[0;32m      6\u001b[0m \u001b[0msix_top_5\u001b[0m \u001b[1;33m=\u001b[0m \u001b[0msix_top_5\u001b[0m\u001b[1;33m[\u001b[0m\u001b[1;33m[\u001b[0m\u001b[1;34m\"Country\"\u001b[0m\u001b[1;33m,\u001b[0m \u001b[1;34m\"Happiness Rank\"\u001b[0m\u001b[1;33m,\u001b[0m \u001b[1;34m\"Happiness Score\"\u001b[0m\u001b[1;33m,\u001b[0m \u001b[1;34m\"Trust (Government Corruption)\"\u001b[0m\u001b[1;33m]\u001b[0m\u001b[1;33m]\u001b[0m\u001b[1;33m\u001b[0m\u001b[1;33m\u001b[0m\u001b[0m\n",
      "\u001b[1;31mNameError\u001b[0m: name 'six_df' is not defined"
     ]
    }
   ],
   "source": [
    "# create dataframes showing top 5 and bottom 5 ranking on the happiness score and trust in government for each year\n",
    "\n",
    "# 2016 top 5\n",
    "six_top_5 = six_df.iloc[0:5]\n",
    "six_df[[\"Country\", \"Happiness Rank\", \"Happiness Score\", \"Trust (Government Corruption)\"]]\n",
    "six_top_5 = six_top_5[[\"Country\", \"Happiness Rank\", \"Happiness Score\", \"Trust (Government Corruption)\"]]\n",
    "# 2016 bottom 5\n",
    "six_last_5 = six_df.iloc[152:157]\n",
    "six_last_5[[\"Country\", \"Happiness Rank\", \"Happiness Score\", \"Trust (Government Corruption)\"]]\n",
    "six_last_5 = six_last_5[[\"Country\", \"Happiness Rank\", \"Happiness Score\", \"Trust (Government Corruption)\"]]"
   ]
  },
  {
   "cell_type": "code",
   "execution_count": 10,
   "id": "88050935-4bdd-4fb5-9c2a-163b5a041084",
   "metadata": {},
   "outputs": [
    {
     "ename": "NameError",
     "evalue": "name 'six_top_5' is not defined",
     "output_type": "error",
     "traceback": [
      "\u001b[1;31m---------------------------------------------------------------------------\u001b[0m",
      "\u001b[1;31mNameError\u001b[0m                                 Traceback (most recent call last)",
      "\u001b[1;32m~\\AppData\\Local\\Temp\\ipykernel_2796\\2454134234.py\u001b[0m in \u001b[0;36m<module>\u001b[1;34m\u001b[0m\n\u001b[1;32m----> 1\u001b[1;33m \u001b[0msix_top_5\u001b[0m\u001b[1;33m\u001b[0m\u001b[1;33m\u001b[0m\u001b[0m\n\u001b[0m",
      "\u001b[1;31mNameError\u001b[0m: name 'six_top_5' is not defined"
     ]
    }
   ],
   "source": [
    "six_top_5\n"
   ]
  },
  {
   "cell_type": "code",
   "execution_count": 11,
   "id": "29d24150-b392-40f5-a678-5b8aa8f05aaf",
   "metadata": {},
   "outputs": [
    {
     "ename": "NameError",
     "evalue": "name 'six_last_5' is not defined",
     "output_type": "error",
     "traceback": [
      "\u001b[1;31m---------------------------------------------------------------------------\u001b[0m",
      "\u001b[1;31mNameError\u001b[0m                                 Traceback (most recent call last)",
      "\u001b[1;32m~\\AppData\\Local\\Temp\\ipykernel_2796\\3001055025.py\u001b[0m in \u001b[0;36m<module>\u001b[1;34m\u001b[0m\n\u001b[1;32m----> 1\u001b[1;33m \u001b[0msix_last_5\u001b[0m\u001b[1;33m\u001b[0m\u001b[1;33m\u001b[0m\u001b[0m\n\u001b[0m",
      "\u001b[1;31mNameError\u001b[0m: name 'six_last_5' is not defined"
     ]
    }
   ],
   "source": [
    "six_last_5"
   ]
  },
  {
   "cell_type": "code",
   "execution_count": 12,
   "id": "f59ae8bd-c323-4e39-8a53-928a84a65649",
   "metadata": {},
   "outputs": [
    {
     "ename": "NameError",
     "evalue": "name 'sev_df' is not defined",
     "output_type": "error",
     "traceback": [
      "\u001b[1;31m---------------------------------------------------------------------------\u001b[0m",
      "\u001b[1;31mNameError\u001b[0m                                 Traceback (most recent call last)",
      "\u001b[1;32m~\\AppData\\Local\\Temp\\ipykernel_2796\\398643226.py\u001b[0m in \u001b[0;36m<module>\u001b[1;34m\u001b[0m\n\u001b[0;32m      2\u001b[0m \u001b[1;33m\u001b[0m\u001b[0m\n\u001b[0;32m      3\u001b[0m \u001b[1;31m# 2017 top 5\u001b[0m\u001b[1;33m\u001b[0m\u001b[1;33m\u001b[0m\u001b[0m\n\u001b[1;32m----> 4\u001b[1;33m \u001b[0msev_top_5\u001b[0m \u001b[1;33m=\u001b[0m \u001b[0msev_df\u001b[0m\u001b[1;33m.\u001b[0m\u001b[0miloc\u001b[0m\u001b[1;33m[\u001b[0m\u001b[1;36m0\u001b[0m\u001b[1;33m:\u001b[0m\u001b[1;36m5\u001b[0m\u001b[1;33m]\u001b[0m\u001b[1;33m\u001b[0m\u001b[1;33m\u001b[0m\u001b[0m\n\u001b[0m\u001b[0;32m      5\u001b[0m \u001b[0msev_df\u001b[0m\u001b[1;33m[\u001b[0m\u001b[1;33m[\u001b[0m\u001b[1;34m\"Country\"\u001b[0m\u001b[1;33m,\u001b[0m \u001b[1;34m\"Happiness.Rank\"\u001b[0m\u001b[1;33m,\u001b[0m \u001b[1;34m\"Happiness.Score\"\u001b[0m\u001b[1;33m,\u001b[0m \u001b[1;34m\"Trust..Government.Corruption.\"\u001b[0m\u001b[1;33m]\u001b[0m\u001b[1;33m]\u001b[0m\u001b[1;33m\u001b[0m\u001b[1;33m\u001b[0m\u001b[0m\n\u001b[0;32m      6\u001b[0m \u001b[0msev_top_5\u001b[0m \u001b[1;33m=\u001b[0m \u001b[0msev_top_5\u001b[0m\u001b[1;33m[\u001b[0m\u001b[1;33m[\u001b[0m\u001b[1;34m\"Country\"\u001b[0m\u001b[1;33m,\u001b[0m \u001b[1;34m\"Happiness.Rank\"\u001b[0m\u001b[1;33m,\u001b[0m \u001b[1;34m\"Happiness.Score\"\u001b[0m\u001b[1;33m,\u001b[0m \u001b[1;34m\"Trust..Government.Corruption.\"\u001b[0m\u001b[1;33m]\u001b[0m\u001b[1;33m]\u001b[0m\u001b[1;33m\u001b[0m\u001b[1;33m\u001b[0m\u001b[0m\n",
      "\u001b[1;31mNameError\u001b[0m: name 'sev_df' is not defined"
     ]
    }
   ],
   "source": [
    "# create dataframes showing top 5 and bottom 5 ranking on the happiness score and trust in government for each year\n",
    "\n",
    "# 2017 top 5\n",
    "sev_top_5 = sev_df.iloc[0:5]\n",
    "sev_df[[\"Country\", \"Happiness.Rank\", \"Happiness.Score\", \"Trust..Government.Corruption.\"]]\n",
    "sev_top_5 = sev_top_5[[\"Country\", \"Happiness.Rank\", \"Happiness.Score\", \"Trust..Government.Corruption.\"]]\n",
    "\n",
    "# 2017 bottom 5\n",
    "sev_last_5 = sev_df.iloc[151:155]\n",
    "sev_last_5[[\"Country\", \"Happiness.Rank\", \"Happiness.Score\", \"Trust..Government.Corruption.\"]]\n",
    "sev_last_5 = sev_last_5[[\"Country\", \"Happiness.Rank\", \"Happiness.Score\", \"Trust..Government.Corruption.\"]]\n",
    "#rename columns for continuity.\n",
    "clean_sev_top = sev_top_5[[\"Country\", \"Happiness.Rank\", \"Happiness.Score\",\n",
    "                           \"Trust..Government.Corruption.\"]]                                \n",
    "clean_sev_top = clean_sev_top.rename(columns={\"Happiness.Rank\":\"Happiness Rank\",\n",
    "                                              \"Happiness.Score\":\"Happiness Score\",\n",
    "                                              \"Trust..Government.Corruption.\":\"Trust (Government Corruption)\"})\n",
    "\n",
    "clean_sev_last = sev_last_5[[\"Country\", \"Happiness.Rank\", \"Happiness.Score\",\n",
    "                             \"Trust..Government.Corruption.\"]]                                \n",
    "clean_sev_last = clean_sev_last.rename(columns={\"Happiness.Rank\":\"Happiness Rank\",\n",
    "                                                \"Happiness.Score\":\"Happiness Score\",\n",
    "                                                \"Trust..Government.Corruption.\":\"Trust (Government Corruption)\"})\n"
   ]
  },
  {
   "cell_type": "code",
   "execution_count": 13,
   "id": "c98d6183-8781-41c9-80d4-db294e343314",
   "metadata": {},
   "outputs": [
    {
     "ename": "NameError",
     "evalue": "name 'clean_sev_top' is not defined",
     "output_type": "error",
     "traceback": [
      "\u001b[1;31m---------------------------------------------------------------------------\u001b[0m",
      "\u001b[1;31mNameError\u001b[0m                                 Traceback (most recent call last)",
      "\u001b[1;32m~\\AppData\\Local\\Temp\\ipykernel_2796\\269903079.py\u001b[0m in \u001b[0;36m<module>\u001b[1;34m\u001b[0m\n\u001b[1;32m----> 1\u001b[1;33m \u001b[0mclean_sev_top\u001b[0m\u001b[1;33m.\u001b[0m\u001b[0mhead\u001b[0m\u001b[1;33m(\u001b[0m\u001b[1;33m)\u001b[0m\u001b[1;33m\u001b[0m\u001b[1;33m\u001b[0m\u001b[0m\n\u001b[0m",
      "\u001b[1;31mNameError\u001b[0m: name 'clean_sev_top' is not defined"
     ]
    }
   ],
   "source": [
    "clean_sev_top.head()"
   ]
  },
  {
   "cell_type": "code",
   "execution_count": 14,
   "id": "a8f7daa1-8872-4567-a74d-0011813251b8",
   "metadata": {},
   "outputs": [
    {
     "ename": "NameError",
     "evalue": "name 'clean_sev_last' is not defined",
     "output_type": "error",
     "traceback": [
      "\u001b[1;31m---------------------------------------------------------------------------\u001b[0m",
      "\u001b[1;31mNameError\u001b[0m                                 Traceback (most recent call last)",
      "\u001b[1;32m~\\AppData\\Local\\Temp\\ipykernel_2796\\3155755137.py\u001b[0m in \u001b[0;36m<module>\u001b[1;34m\u001b[0m\n\u001b[1;32m----> 1\u001b[1;33m \u001b[0mclean_sev_last\u001b[0m\u001b[1;33m\u001b[0m\u001b[1;33m\u001b[0m\u001b[0m\n\u001b[0m",
      "\u001b[1;31mNameError\u001b[0m: name 'clean_sev_last' is not defined"
     ]
    }
   ],
   "source": [
    "clean_sev_last"
   ]
  },
  {
   "cell_type": "code",
   "execution_count": 15,
   "id": "5606dae8-af39-4e6d-b8bf-c2014cae32c3",
   "metadata": {},
   "outputs": [
    {
     "ename": "NameError",
     "evalue": "name 'eight_df' is not defined",
     "output_type": "error",
     "traceback": [
      "\u001b[1;31m---------------------------------------------------------------------------\u001b[0m",
      "\u001b[1;31mNameError\u001b[0m                                 Traceback (most recent call last)",
      "\u001b[1;32m~\\AppData\\Local\\Temp\\ipykernel_2796\\3033293151.py\u001b[0m in \u001b[0;36m<module>\u001b[1;34m\u001b[0m\n\u001b[0;32m      2\u001b[0m \u001b[1;33m\u001b[0m\u001b[0m\n\u001b[0;32m      3\u001b[0m \u001b[1;31m# 2018 top 5\u001b[0m\u001b[1;33m\u001b[0m\u001b[1;33m\u001b[0m\u001b[0m\n\u001b[1;32m----> 4\u001b[1;33m \u001b[0meight_top_5\u001b[0m \u001b[1;33m=\u001b[0m \u001b[0meight_df\u001b[0m\u001b[1;33m.\u001b[0m\u001b[0miloc\u001b[0m\u001b[1;33m[\u001b[0m\u001b[1;36m0\u001b[0m\u001b[1;33m:\u001b[0m\u001b[1;36m5\u001b[0m\u001b[1;33m]\u001b[0m\u001b[1;33m\u001b[0m\u001b[1;33m\u001b[0m\u001b[0m\n\u001b[0m\u001b[0;32m      5\u001b[0m \u001b[0meight_df\u001b[0m\u001b[1;33m[\u001b[0m\u001b[1;33m[\u001b[0m\u001b[1;34m\"Country or region\"\u001b[0m\u001b[1;33m,\u001b[0m \u001b[1;34m\"Overall rank\"\u001b[0m\u001b[1;33m,\u001b[0m \u001b[1;34m\"Score\"\u001b[0m\u001b[1;33m,\u001b[0m \u001b[1;34m\"Perceptions of corruption\"\u001b[0m\u001b[1;33m]\u001b[0m\u001b[1;33m]\u001b[0m\u001b[1;33m\u001b[0m\u001b[1;33m\u001b[0m\u001b[0m\n\u001b[0;32m      6\u001b[0m \u001b[0meight_top_5\u001b[0m \u001b[1;33m=\u001b[0m \u001b[0meight_top_5\u001b[0m\u001b[1;33m[\u001b[0m\u001b[1;33m[\u001b[0m\u001b[1;34m\"Country or region\"\u001b[0m\u001b[1;33m,\u001b[0m \u001b[1;34m\"Overall rank\"\u001b[0m\u001b[1;33m,\u001b[0m \u001b[1;34m\"Score\"\u001b[0m\u001b[1;33m,\u001b[0m \u001b[1;34m\"Perceptions of corruption\"\u001b[0m\u001b[1;33m]\u001b[0m\u001b[1;33m]\u001b[0m\u001b[1;33m\u001b[0m\u001b[1;33m\u001b[0m\u001b[0m\n",
      "\u001b[1;31mNameError\u001b[0m: name 'eight_df' is not defined"
     ]
    }
   ],
   "source": [
    "# create dataframes showing top 5 and bottom 5 ranking on the happiness score and trust in government for each year\n",
    "\n",
    "# 2018 top 5\n",
    "eight_top_5 = eight_df.iloc[0:5]\n",
    "eight_df[[\"Country or region\", \"Overall rank\", \"Score\", \"Perceptions of corruption\"]]\n",
    "eight_top_5 = eight_top_5[[\"Country or region\", \"Overall rank\", \"Score\", \"Perceptions of corruption\"]]\n",
    "# 2018 bottom 5\n",
    "eight_last_5 = eight_df.iloc[151:155]\n",
    "eight_last_5[[\"Country or region\", \"Overall rank\", \"Score\", \"Perceptions of corruption\"]]\n",
    "eight_last_5 = eight_last_5[[\"Country or region\", \"Overall rank\", \"Score\", \"Perceptions of corruption\"]]\n",
    "\n",
    "#rename columns for continuity.\n",
    "clean_eight_top = eight_top_5[[\"Country or region\", \"Overall rank\", \"Score\", \"Perceptions of corruption\"]]                                \n",
    "clean_eight_top = clean_eight_top.rename(columns={\"Country or region\":\"Country\",\n",
    "                                                  \"Score\":\"Happiness Score\",\n",
    "                                                  \"Overall rank\":\"Happiness Rank\",\n",
    "                                                  \"Perceptions of corruption\":\"Trust (Government Corruption)\"})\n",
    "\n",
    "clean_eight_last = eight_last_5[[\"Country or region\", \"Overall rank\", \"Score\", \"Perceptions of corruption\"]]                                \n",
    "clean_eight_last = clean_eight_last.rename(columns={\"Country or region\":\"Country\", \n",
    "                                                    \"Overall rank\":\"Happiness Rank\",\n",
    "                                                    \"Score\":\"Happiness Score\",\n",
    "                                                    \"Perceptions of corruption\":\"Trust (Government Corruption)\"})\n"
   ]
  },
  {
   "cell_type": "code",
   "execution_count": 16,
   "id": "773d9663-2039-4ee9-a2c5-8eb0827b666e",
   "metadata": {},
   "outputs": [
    {
     "ename": "NameError",
     "evalue": "name 'clean_eight_top' is not defined",
     "output_type": "error",
     "traceback": [
      "\u001b[1;31m---------------------------------------------------------------------------\u001b[0m",
      "\u001b[1;31mNameError\u001b[0m                                 Traceback (most recent call last)",
      "\u001b[1;32m~\\AppData\\Local\\Temp\\ipykernel_2796\\3530504604.py\u001b[0m in \u001b[0;36m<module>\u001b[1;34m\u001b[0m\n\u001b[1;32m----> 1\u001b[1;33m \u001b[0mclean_eight_top\u001b[0m\u001b[1;33m\u001b[0m\u001b[1;33m\u001b[0m\u001b[0m\n\u001b[0m",
      "\u001b[1;31mNameError\u001b[0m: name 'clean_eight_top' is not defined"
     ]
    }
   ],
   "source": [
    "clean_eight_top"
   ]
  },
  {
   "cell_type": "code",
   "execution_count": 17,
   "id": "728096e1-4e3d-479d-8b9b-e112091ba148",
   "metadata": {},
   "outputs": [
    {
     "ename": "NameError",
     "evalue": "name 'clean_eight_last' is not defined",
     "output_type": "error",
     "traceback": [
      "\u001b[1;31m---------------------------------------------------------------------------\u001b[0m",
      "\u001b[1;31mNameError\u001b[0m                                 Traceback (most recent call last)",
      "\u001b[1;32m~\\AppData\\Local\\Temp\\ipykernel_2796\\3769027169.py\u001b[0m in \u001b[0;36m<module>\u001b[1;34m\u001b[0m\n\u001b[1;32m----> 1\u001b[1;33m \u001b[0mclean_eight_last\u001b[0m\u001b[1;33m\u001b[0m\u001b[1;33m\u001b[0m\u001b[0m\n\u001b[0m",
      "\u001b[1;31mNameError\u001b[0m: name 'clean_eight_last' is not defined"
     ]
    }
   ],
   "source": [
    "clean_eight_last"
   ]
  },
  {
   "cell_type": "code",
   "execution_count": 18,
   "id": "067cfc2c-bc40-4729-99c7-ca01b4fb2c6f",
   "metadata": {},
   "outputs": [
    {
     "ename": "NameError",
     "evalue": "name 'nine_df' is not defined",
     "output_type": "error",
     "traceback": [
      "\u001b[1;31m---------------------------------------------------------------------------\u001b[0m",
      "\u001b[1;31mNameError\u001b[0m                                 Traceback (most recent call last)",
      "\u001b[1;32m~\\AppData\\Local\\Temp\\ipykernel_2796\\2138064453.py\u001b[0m in \u001b[0;36m<module>\u001b[1;34m\u001b[0m\n\u001b[0;32m      2\u001b[0m \u001b[1;33m\u001b[0m\u001b[0m\n\u001b[0;32m      3\u001b[0m \u001b[1;31m# 2019 top 5\u001b[0m\u001b[1;33m\u001b[0m\u001b[1;33m\u001b[0m\u001b[0m\n\u001b[1;32m----> 4\u001b[1;33m \u001b[0mnine_top_5\u001b[0m \u001b[1;33m=\u001b[0m \u001b[0mnine_df\u001b[0m\u001b[1;33m.\u001b[0m\u001b[0miloc\u001b[0m\u001b[1;33m[\u001b[0m\u001b[1;36m0\u001b[0m\u001b[1;33m:\u001b[0m\u001b[1;36m5\u001b[0m\u001b[1;33m]\u001b[0m\u001b[1;33m\u001b[0m\u001b[1;33m\u001b[0m\u001b[0m\n\u001b[0m\u001b[0;32m      5\u001b[0m \u001b[0mnine_df\u001b[0m\u001b[1;33m[\u001b[0m\u001b[1;33m[\u001b[0m\u001b[1;34m\"Country or region\"\u001b[0m\u001b[1;33m,\u001b[0m \u001b[1;34m\"Overall rank\"\u001b[0m\u001b[1;33m,\u001b[0m \u001b[1;34m\"Score\"\u001b[0m\u001b[1;33m,\u001b[0m \u001b[1;34m\"Perceptions of corruption\"\u001b[0m\u001b[1;33m]\u001b[0m\u001b[1;33m]\u001b[0m\u001b[1;33m\u001b[0m\u001b[1;33m\u001b[0m\u001b[0m\n\u001b[0;32m      6\u001b[0m \u001b[0mnine_top_5\u001b[0m \u001b[1;33m=\u001b[0m \u001b[0mnine_top_5\u001b[0m\u001b[1;33m[\u001b[0m\u001b[1;33m[\u001b[0m\u001b[1;34m\"Country or region\"\u001b[0m\u001b[1;33m,\u001b[0m \u001b[1;34m\"Overall rank\"\u001b[0m\u001b[1;33m,\u001b[0m \u001b[1;34m\"Score\"\u001b[0m\u001b[1;33m,\u001b[0m \u001b[1;34m\"Perceptions of corruption\"\u001b[0m\u001b[1;33m]\u001b[0m\u001b[1;33m]\u001b[0m\u001b[1;33m\u001b[0m\u001b[1;33m\u001b[0m\u001b[0m\n",
      "\u001b[1;31mNameError\u001b[0m: name 'nine_df' is not defined"
     ]
    }
   ],
   "source": [
    "# create dataframes showing top 5 and bottom 5 ranking on the happiness score and trust in government for each year\n",
    "\n",
    "# 2019 top 5\n",
    "nine_top_5 = nine_df.iloc[0:5]\n",
    "nine_df[[\"Country or region\", \"Overall rank\", \"Score\", \"Perceptions of corruption\"]]\n",
    "nine_top_5 = nine_top_5[[\"Country or region\", \"Overall rank\", \"Score\", \"Perceptions of corruption\"]]\n",
    "# 2019 bottom 5\n",
    "nine_last_5 = nine_df.iloc[151:155]\n",
    "nine_last_5[[\"Country or region\", \"Overall rank\", \"Score\", \"Perceptions of corruption\"]]\n",
    "nine_last_5 = nine_last_5[[\"Country or region\", \"Overall rank\", \"Score\", \"Perceptions of corruption\"]]\n",
    "\n",
    "#rename columns for continuity.\n",
    "clean_nine_top = nine_top_5[[\"Country or region\", \"Overall rank\", \"Score\", \"Perceptions of corruption\"]]                                \n",
    "clean_nine_top = clean_nine_top.rename(columns={\"Country or region\":\"Country\",\n",
    "                                                \"Overall rank\":\"Happiness Rank\",\n",
    "                                                  \"Score\":\"Happiness Score\",\n",
    "                                                  \"Perceptions of corruption\":\"Trust (Government Corruption)\"})\n",
    "\n",
    "clean_nine_last = nine_last_5[[\"Country or region\", \"Overall rank\", \"Score\", \"Perceptions of corruption\"]]                                \n",
    "clean_nine_last = clean_nine_last.rename(columns={\"Country or region\":\"Country\", \n",
    "                                                    \"Overall rank\":\"Happiness Rank\",\n",
    "                                                    \"Score\":\"Happiness Score\",\n",
    "                                                    \"Perceptions of corruption\":\"Trust (Government Corruption)\"})"
   ]
  },
  {
   "cell_type": "code",
   "execution_count": 19,
   "id": "7dce00b1-f541-4c87-bd4c-61c8dac26323",
   "metadata": {},
   "outputs": [
    {
     "ename": "NameError",
     "evalue": "name 'clean_nine_top' is not defined",
     "output_type": "error",
     "traceback": [
      "\u001b[1;31m---------------------------------------------------------------------------\u001b[0m",
      "\u001b[1;31mNameError\u001b[0m                                 Traceback (most recent call last)",
      "\u001b[1;32m~\\AppData\\Local\\Temp\\ipykernel_2796\\917202350.py\u001b[0m in \u001b[0;36m<module>\u001b[1;34m\u001b[0m\n\u001b[1;32m----> 1\u001b[1;33m \u001b[0mclean_nine_top\u001b[0m\u001b[1;33m\u001b[0m\u001b[1;33m\u001b[0m\u001b[0m\n\u001b[0m",
      "\u001b[1;31mNameError\u001b[0m: name 'clean_nine_top' is not defined"
     ]
    }
   ],
   "source": [
    "clean_nine_top"
   ]
  },
  {
   "cell_type": "code",
   "execution_count": 20,
   "id": "60ff9615-3713-41e4-b531-8cdc8b8bac7d",
   "metadata": {},
   "outputs": [
    {
     "ename": "NameError",
     "evalue": "name 'clean_nine_last' is not defined",
     "output_type": "error",
     "traceback": [
      "\u001b[1;31m---------------------------------------------------------------------------\u001b[0m",
      "\u001b[1;31mNameError\u001b[0m                                 Traceback (most recent call last)",
      "\u001b[1;32m~\\AppData\\Local\\Temp\\ipykernel_2796\\2395442298.py\u001b[0m in \u001b[0;36m<module>\u001b[1;34m\u001b[0m\n\u001b[1;32m----> 1\u001b[1;33m \u001b[0mclean_nine_last\u001b[0m\u001b[1;33m\u001b[0m\u001b[1;33m\u001b[0m\u001b[0m\n\u001b[0m",
      "\u001b[1;31mNameError\u001b[0m: name 'clean_nine_last' is not defined"
     ]
    }
   ],
   "source": [
    "clean_nine_last"
   ]
  },
  {
   "cell_type": "code",
   "execution_count": 21,
   "id": "63c2f97b-92d6-4d11-9ae4-9f7b570f4fae",
   "metadata": {},
   "outputs": [
    {
     "ename": "NameError",
     "evalue": "name 'fif_df' is not defined",
     "output_type": "error",
     "traceback": [
      "\u001b[1;31m---------------------------------------------------------------------------\u001b[0m",
      "\u001b[1;31mNameError\u001b[0m                                 Traceback (most recent call last)",
      "\u001b[1;32m~\\AppData\\Local\\Temp\\ipykernel_2796\\179221274.py\u001b[0m in \u001b[0;36m<module>\u001b[1;34m\u001b[0m\n\u001b[1;32m----> 1\u001b[1;33m \u001b[0mfif\u001b[0m \u001b[1;33m=\u001b[0m \u001b[0mfif_df\u001b[0m\u001b[1;33m.\u001b[0m\u001b[0mcopy\u001b[0m\u001b[1;33m(\u001b[0m\u001b[1;33m)\u001b[0m\u001b[1;33m\u001b[0m\u001b[1;33m\u001b[0m\u001b[0m\n\u001b[0m\u001b[0;32m      2\u001b[0m \u001b[0msix\u001b[0m \u001b[1;33m=\u001b[0m \u001b[0msix_df\u001b[0m\u001b[1;33m.\u001b[0m\u001b[0mcopy\u001b[0m\u001b[1;33m(\u001b[0m\u001b[1;33m)\u001b[0m\u001b[1;33m\u001b[0m\u001b[1;33m\u001b[0m\u001b[0m\n\u001b[0;32m      3\u001b[0m \u001b[0msev\u001b[0m \u001b[1;33m=\u001b[0m \u001b[0msev_df\u001b[0m\u001b[1;33m.\u001b[0m\u001b[0mcopy\u001b[0m\u001b[1;33m(\u001b[0m\u001b[1;33m)\u001b[0m\u001b[1;33m\u001b[0m\u001b[1;33m\u001b[0m\u001b[0m\n\u001b[0;32m      4\u001b[0m \u001b[0meight\u001b[0m \u001b[1;33m=\u001b[0m \u001b[0meight_df\u001b[0m\u001b[1;33m.\u001b[0m\u001b[0mcopy\u001b[0m\u001b[1;33m(\u001b[0m\u001b[1;33m)\u001b[0m\u001b[1;33m\u001b[0m\u001b[1;33m\u001b[0m\u001b[0m\n\u001b[0;32m      5\u001b[0m \u001b[0mnine\u001b[0m \u001b[1;33m=\u001b[0m \u001b[0mnine_df\u001b[0m\u001b[1;33m.\u001b[0m\u001b[0mcopy\u001b[0m\u001b[1;33m(\u001b[0m\u001b[1;33m)\u001b[0m\u001b[1;33m\u001b[0m\u001b[1;33m\u001b[0m\u001b[0m\n",
      "\u001b[1;31mNameError\u001b[0m: name 'fif_df' is not defined"
     ]
    }
   ],
   "source": [
    "fif = fif_df.copy()\n",
    "six = six_df.copy()\n",
    "sev = sev_df.copy()\n",
    "eight = eight_df.copy()\n",
    "nine = nine_df.copy()\n",
    "\n",
    "#rename columns for continuity.\n",
    "sev = sev[[\"Country\", \"Happiness.Rank\", \"Happiness.Score\",\n",
    "                           \"Trust..Government.Corruption.\"]]                                \n",
    "sev = sev.rename(columns={\"Happiness.Rank\":\"Happiness Rank\",\n",
    "                                              \"Happiness.Score\":\"Happiness Score\",\n",
    "                                              \"Trust..Government.Corruption.\":\"Trust (Government Corruption)\"})\n",
    "\n",
    "eight = eight[[\"Country or region\", \"Overall rank\", \"Score\", \"Perceptions of corruption\"]]                                \n",
    "eight = eight.rename(columns={\"Country or region\":\"Country\",\n",
    "                                                \"Overall rank\":\"Happiness Rank\",\n",
    "                                                  \"Score\":\"Happiness Score\",\n",
    "                                                  \"Perceptions of corruption\":\"Trust (Government Corruption)\"})\n",
    "\n",
    "nine = nine[[\"Country or region\", \"Overall rank\", \"Score\", \"Perceptions of corruption\"]]                                \n",
    "nine = nine.rename(columns={\"Country or region\":\"Country\",\n",
    "                                                \"Overall rank\":\"Happiness Rank\",\n",
    "                                                  \"Score\":\"Happiness Score\",\n",
    "                                                  \"Perceptions of corruption\":\"Trust (Government Corruption)\"})\n"
   ]
  },
  {
   "cell_type": "code",
   "execution_count": 22,
   "id": "fedb34d8-47d7-4546-a3a5-f5b775812dfe",
   "metadata": {},
   "outputs": [
    {
     "ename": "NameError",
     "evalue": "name 'fif' is not defined",
     "output_type": "error",
     "traceback": [
      "\u001b[1;31m---------------------------------------------------------------------------\u001b[0m",
      "\u001b[1;31mNameError\u001b[0m                                 Traceback (most recent call last)",
      "\u001b[1;32m~\\AppData\\Local\\Temp\\ipykernel_2796\\3785085677.py\u001b[0m in \u001b[0;36m<module>\u001b[1;34m\u001b[0m\n\u001b[0;32m      1\u001b[0m \u001b[1;31m#calculate mean of happiness score and trust in government columns for each year's dataset.\u001b[0m\u001b[1;33m\u001b[0m\u001b[1;33m\u001b[0m\u001b[0m\n\u001b[1;32m----> 2\u001b[1;33m \u001b[0mfif_sum\u001b[0m \u001b[1;33m=\u001b[0m \u001b[0mfif\u001b[0m\u001b[1;33m[\u001b[0m\u001b[1;33m[\u001b[0m\u001b[1;34m\"Happiness Score\"\u001b[0m\u001b[1;33m]\u001b[0m\u001b[1;33m]\u001b[0m\u001b[1;33m.\u001b[0m\u001b[0msum\u001b[0m\u001b[1;33m\u001b[0m\u001b[1;33m\u001b[0m\u001b[0m\n\u001b[0m",
      "\u001b[1;31mNameError\u001b[0m: name 'fif' is not defined"
     ]
    }
   ],
   "source": [
    "#calculate mean of happiness score and trust in government columns for each year's dataset.\n",
    "fif_sum = fif[[\"Happiness Score\"]].sum\n"
   ]
  },
  {
   "cell_type": "code",
   "execution_count": null,
   "id": "4caa26e6-f070-4e8a-8e69-e454d381215a",
   "metadata": {},
   "outputs": [],
   "source": []
  },
  {
   "cell_type": "code",
   "execution_count": null,
   "id": "6e063139-e2da-499e-a847-11e27b10874f",
   "metadata": {},
   "outputs": [],
   "source": []
  },
  {
   "cell_type": "code",
   "execution_count": null,
   "id": "7db4af64-16d2-41b2-b157-f07c2633d703",
   "metadata": {},
   "outputs": [],
   "source": []
  },
  {
   "cell_type": "code",
   "execution_count": null,
   "id": "1c801d75-bbad-4fe7-8326-15c2a51f3e2c",
   "metadata": {},
   "outputs": [],
   "source": []
  }
 ],
 "metadata": {
  "kernelspec": {
   "display_name": "Python 3 (ipykernel)",
   "language": "python",
   "name": "python3"
  },
  "language_info": {
   "codemirror_mode": {
    "name": "ipython",
    "version": 3
   },
   "file_extension": ".py",
   "mimetype": "text/x-python",
   "name": "python",
   "nbconvert_exporter": "python",
   "pygments_lexer": "ipython3",
   "version": "3.9.13"
  }
 },
 "nbformat": 4,
 "nbformat_minor": 5
}
